{
 "cells": [
  {
   "cell_type": "code",
   "execution_count": 4,
   "metadata": {},
   "outputs": [],
   "source": [
    "import tensorflow as tf\n",
    "import pandas as pd\n",
    "from keras import layers"
   ]
  },
  {
   "cell_type": "code",
   "execution_count": 5,
   "metadata": {},
   "outputs": [],
   "source": [
    "mnist = tf.keras.datasets.mnist\n",
    "\n",
    "(x_train, y_train), (x_test, y_test) = mnist.load_data()\n",
    "\n",
    "# Normalie 0 to 1\n",
    "train_images, train_labels = x_train / 255, y_train\n",
    "test_images, test_labels = x_test / 255, y_test\n"
   ]
  },
  {
   "cell_type": "code",
   "execution_count": 47,
   "metadata": {},
   "outputs": [],
   "source": [
    "model = tf.keras.models.Sequential([\n",
    "        # Input Layer\n",
    "        layers.Conv2D(32, kernel_size=3, activation='relu', padding='same', input_shape=[28,28,1]),\n",
    "        layers.MaxPooling2D(2),\n",
    "\n",
    "        layers.Conv2D(filters=64, kernel_size=3, padding=\"same\", activation=\"relu\"),\n",
    "        layers.MaxPooling2D(2),\n",
    "\n",
    "        layers.Conv2D(filters=128, kernel_size=3, padding=\"same\", activation=\"relu\"),\n",
    "        layers.MaxPooling2D(2),\n",
    "\n",
    "        # Transform to 1D\n",
    "        layers.Flatten(), \n",
    "\n",
    "        # 2 hidden layers\n",
    "        layers.Dense(30, activation=\"relu\"),\n",
    "        layers.Dropout(0.2),\n",
    "\n",
    "        layers.Dense(30, activation='relu'),\n",
    "        layers.Dropout(0.2),\n",
    "\n",
    "        # Output layer\n",
    "        layers.Dense(10, activation=\"softmax\")\n",
    "    ])"
   ]
  },
  {
   "cell_type": "code",
   "execution_count": 7,
   "metadata": {},
   "outputs": [
    {
     "name": "stdout",
     "output_type": "stream",
     "text": [
      "Model: \"sequential\"\n",
      "_________________________________________________________________\n",
      " Layer (type)                Output Shape              Param #   \n",
      "=================================================================\n",
      " conv2d (Conv2D)             (None, 28, 28, 32)        320       \n",
      "                                                                 \n",
      " max_pooling2d (MaxPooling2D  (None, 14, 14, 32)       0         \n",
      " )                                                               \n",
      "                                                                 \n",
      " conv2d_1 (Conv2D)           (None, 14, 14, 64)        18496     \n",
      "                                                                 \n",
      " max_pooling2d_1 (MaxPooling  (None, 7, 7, 64)         0         \n",
      " 2D)                                                             \n",
      "                                                                 \n",
      " conv2d_2 (Conv2D)           (None, 7, 7, 128)         73856     \n",
      "                                                                 \n",
      " max_pooling2d_2 (MaxPooling  (None, 3, 3, 128)        0         \n",
      " 2D)                                                             \n",
      "                                                                 \n",
      " flatten (Flatten)           (None, 1152)              0         \n",
      "                                                                 \n",
      " dense (Dense)               (None, 30)                34590     \n",
      "                                                                 \n",
      " dropout (Dropout)           (None, 30)                0         \n",
      "                                                                 \n",
      " dense_1 (Dense)             (None, 30)                930       \n",
      "                                                                 \n",
      " dropout_1 (Dropout)         (None, 30)                0         \n",
      "                                                                 \n",
      " dense_2 (Dense)             (None, 10)                310       \n",
      "                                                                 \n",
      "=================================================================\n",
      "Total params: 128,502\n",
      "Trainable params: 128,502\n",
      "Non-trainable params: 0\n",
      "_________________________________________________________________\n",
      "None\n",
      "Epoch 1/15\n"
     ]
    },
    {
     "name": "stderr",
     "output_type": "stream",
     "text": [
      "2024-09-30 00:55:24.248064: W tensorflow/tsl/platform/profile_utils/cpu_utils.cc:128] Failed to get CPU frequency: 0 Hz\n"
     ]
    },
    {
     "name": "stdout",
     "output_type": "stream",
     "text": [
      "750/750 [==============================] - 15s 20ms/step - loss: 0.5893 - accuracy: 0.7984 - val_loss: 0.0931 - val_accuracy: 0.9732\n",
      "Epoch 2/15\n",
      "750/750 [==============================] - 16s 21ms/step - loss: 0.2044 - accuracy: 0.9379 - val_loss: 0.0618 - val_accuracy: 0.9822\n",
      "Epoch 3/15\n",
      "750/750 [==============================] - 16s 22ms/step - loss: 0.1418 - accuracy: 0.9559 - val_loss: 0.0507 - val_accuracy: 0.9847\n",
      "Epoch 4/15\n",
      "750/750 [==============================] - 16s 21ms/step - loss: 0.1161 - accuracy: 0.9638 - val_loss: 0.0429 - val_accuracy: 0.9882\n",
      "Epoch 5/15\n",
      "750/750 [==============================] - 16s 21ms/step - loss: 0.1035 - accuracy: 0.9689 - val_loss: 0.0399 - val_accuracy: 0.9891\n",
      "Epoch 6/15\n",
      "750/750 [==============================] - 16s 21ms/step - loss: 0.0873 - accuracy: 0.9741 - val_loss: 0.0508 - val_accuracy: 0.9879\n",
      "Epoch 7/15\n",
      "750/750 [==============================] - 16s 22ms/step - loss: 0.0814 - accuracy: 0.9759 - val_loss: 0.0468 - val_accuracy: 0.9899\n",
      "Epoch 8/15\n",
      "750/750 [==============================] - 17s 22ms/step - loss: 0.0731 - accuracy: 0.9782 - val_loss: 0.0415 - val_accuracy: 0.9900\n",
      "Epoch 9/15\n",
      "750/750 [==============================] - 16s 22ms/step - loss: 0.0705 - accuracy: 0.9799 - val_loss: 0.0536 - val_accuracy: 0.9865\n",
      "Epoch 10/15\n",
      "750/750 [==============================] - 16s 21ms/step - loss: 0.0624 - accuracy: 0.9817 - val_loss: 0.0407 - val_accuracy: 0.9888\n",
      "Epoch 11/15\n",
      "750/750 [==============================] - 16s 22ms/step - loss: 0.0581 - accuracy: 0.9832 - val_loss: 0.0433 - val_accuracy: 0.9919\n",
      "Epoch 12/15\n",
      "750/750 [==============================] - 16s 22ms/step - loss: 0.0532 - accuracy: 0.9845 - val_loss: 0.0384 - val_accuracy: 0.9915\n",
      "Epoch 13/15\n",
      "750/750 [==============================] - 16s 22ms/step - loss: 0.0550 - accuracy: 0.9839 - val_loss: 0.0534 - val_accuracy: 0.9897\n",
      "Epoch 14/15\n",
      "750/750 [==============================] - 16s 21ms/step - loss: 0.0522 - accuracy: 0.9841 - val_loss: 0.0330 - val_accuracy: 0.9918\n",
      "Epoch 15/15\n",
      "750/750 [==============================] - 16s 22ms/step - loss: 0.0460 - accuracy: 0.9865 - val_loss: 0.0412 - val_accuracy: 0.9923\n"
     ]
    },
    {
     "data": {
      "text/plain": [
       "<keras.callbacks.History at 0x175b7cdd0>"
      ]
     },
     "execution_count": 7,
     "metadata": {},
     "output_type": "execute_result"
    }
   ],
   "source": [
    "model.compile(\n",
    "    optimizer=\"adam\",\n",
    "    loss='sparse_categorical_crossentropy',\n",
    "    metrics=['accuracy']\n",
    ")\n",
    "\n",
    "print(model.summary())\n",
    "\n",
    "model.fit(\n",
    "    train_images,\n",
    "    train_labels,\n",
    "    batch_size=64,\n",
    "    epochs=15,\n",
    "    validation_split=0.2)"
   ]
  },
  {
   "cell_type": "code",
   "execution_count": 46,
   "metadata": {},
   "outputs": [
    {
     "name": "stdout",
     "output_type": "stream",
     "text": [
      "1/1 [==============================] - 0s 13ms/step\n",
      "Probabilities: [[0. 0. 0. 0. 0. 0. 0. 1. 0. 0.]]\n",
      "Answer: 7\n"
     ]
    }
   ],
   "source": [
    "# What to predict\n",
    "x_new = x_test[:1]\n",
    "y_prob = model.predict(x_new)\n",
    "\n",
    "print(f\"Probabilities: {y_prob.round(2)}\")\n",
    "print(f\"Answer: {y_test[0]}\")\n",
    "\n"
   ]
  }
 ],
 "metadata": {
  "kernelspec": {
   "display_name": "ml",
   "language": "python",
   "name": "python3"
  },
  "language_info": {
   "codemirror_mode": {
    "name": "ipython",
    "version": 3
   },
   "file_extension": ".py",
   "mimetype": "text/x-python",
   "name": "python",
   "nbconvert_exporter": "python",
   "pygments_lexer": "ipython3",
   "version": "3.11.5"
  }
 },
 "nbformat": 4,
 "nbformat_minor": 2
}
